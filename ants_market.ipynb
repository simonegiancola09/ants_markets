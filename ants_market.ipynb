{
 "cells": [
  {
   "cell_type": "code",
   "execution_count": 1,
   "metadata": {},
   "outputs": [],
   "source": [
    "# main imports\n",
    "import time\n",
    "import numpy as np\n",
    "import pandas as pd\n",
    "# our coded functions imports\n",
    "from src import global_configs, data_loading\n",
    "from src.engineering import create_main_df, interaction_builder\n",
    "from src.visuals import basic_views, make_gif\n",
    "from src.modeling import agents_construction, calibration\n",
    "from src.utils import utils\n",
    "# initialization of Global Variables\n",
    "global_configs.init()"
   ]
  },
  {
   "attachments": {},
   "cell_type": "markdown",
   "metadata": {},
   "source": []
  }
 ],
 "metadata": {
  "kernelspec": {
   "display_name": ".venv",
   "language": "python",
   "name": "python3"
  },
  "language_info": {
   "codemirror_mode": {
    "name": "ipython",
    "version": 3
   },
   "file_extension": ".py",
   "mimetype": "text/x-python",
   "name": "python",
   "nbconvert_exporter": "python",
   "pygments_lexer": "ipython3",
   "version": "3.10.11"
  },
  "orig_nbformat": 4
 },
 "nbformat": 4,
 "nbformat_minor": 2
}
